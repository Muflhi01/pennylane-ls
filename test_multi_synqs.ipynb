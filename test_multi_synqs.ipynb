{
 "cells": [
  {
   "cell_type": "code",
   "execution_count": 1,
   "source": [
    "import pennylane as qml\r\n",
    "import numpy as np\r\n",
    "import sys\r\n",
    "\r\n",
    "%load_ext autoreload\r\n",
    "%autoreload 2"
   ],
   "outputs": [],
   "metadata": {}
  },
  {
   "cell_type": "code",
   "execution_count": 2,
   "source": [
    "from pennylane_ls import *\r\n",
    "from pennylane_ls.MultiQuditDevice import MultiQuditDevice"
   ],
   "outputs": [],
   "metadata": {}
  },
  {
   "cell_type": "code",
   "execution_count": 3,
   "source": [
    "from heroku_credentials import username, password\r\n",
    "from local_credentials  import username, password"
   ],
   "outputs": [],
   "metadata": {}
  },
  {
   "cell_type": "code",
   "execution_count": 4,
   "source": [
    "url_server = \"http://localhost:8000/multiqudit/\"    # the back-end for local testing\r\n",
    "#url_server = \"http://qsimsim.synqs.org/multiqudit/\" # the back-end for remote testing"
   ],
   "outputs": [],
   "metadata": {}
  },
  {
   "cell_type": "code",
   "execution_count": 5,
   "source": [
    "multiDevice = MultiQuditDevice(wires=4,shots=5, url = url_server, username = username, password = password)"
   ],
   "outputs": [],
   "metadata": {}
  },
  {
   "cell_type": "code",
   "execution_count": 6,
   "source": [
    "multiDevice.capabilities()"
   ],
   "outputs": [
    {
     "output_type": "execute_result",
     "data": {
      "text/plain": [
       "{'model': 'qudit',\n",
       " 'supports_finite_shots': True,\n",
       " 'supports_tensor_observables': True,\n",
       " 'returns_probs': False}"
      ]
     },
     "metadata": {},
     "execution_count": 6
    }
   ],
   "metadata": {}
  },
  {
   "cell_type": "markdown",
   "source": [
    "# Test load gate"
   ],
   "metadata": {}
  },
  {
   "cell_type": "code",
   "execution_count": 7,
   "source": [
    "@qml.qnode(multiDevice)\r\n",
    "def quantum_circuit_for_load(alpha=0):\r\n",
    "    load(100,wires=0)\r\n",
    "    load(20,wires=1)\r\n",
    "    return qml.expval(MultiQuditOps.Z(0))"
   ],
   "outputs": [],
   "metadata": {}
  },
  {
   "cell_type": "code",
   "execution_count": 8,
   "source": [
    "res = quantum_circuit_for_load()"
   ],
   "outputs": [
    {
     "output_type": "stream",
     "name": "stdout",
     "text": [
      "{'experiment_0': {'instructions': [('load', [0], [100]), ('load', [1], [20]), ('measure', [0], [])], 'num_wires': 4, 'shots': 5}}\n",
      "{'backend_name': 'synqs_multi_qudit_simulator', 'backend_version': '0.0.1', 'job_id': 125, 'qobj_id': None, 'success': True, 'status': 'finished', 'header': {}, 'results': [{'header': {'name': 'MultiQudit', 'extra metadata': 'None'}, 'shots': 5, 'success': True, 'data': {'memory': ['0', '0', '0', '0', '0']}}]}\n"
     ]
    }
   ],
   "metadata": {}
  },
  {
   "cell_type": "code",
   "execution_count": 9,
   "source": [
    "print(quantum_circuit_for_load.draw())"
   ],
   "outputs": [
    {
     "output_type": "stream",
     "name": "stdout",
     "text": [
      " 0: ──load(100)──┤ ⟨Z⟩ \n",
      " 1: ──load(20)───┤     \n",
      "\n"
     ]
    }
   ],
   "metadata": {}
  },
  {
   "cell_type": "markdown",
   "source": [
    "# Test rLx gate"
   ],
   "metadata": {}
  },
  {
   "cell_type": "code",
   "execution_count": 10,
   "source": [
    "@qml.qnode(multiDevice)\r\n",
    "def quantum_circuit_for_rLx(alpha=0):\r\n",
    "    rLx(0.1,wires=0)\r\n",
    "    rLx(0.3,wires=3)\r\n",
    "    return qml.expval(MultiQuditOps.Z(0))"
   ],
   "outputs": [],
   "metadata": {}
  },
  {
   "cell_type": "code",
   "execution_count": 11,
   "source": [
    "res = quantum_circuit_for_rLx()"
   ],
   "outputs": [
    {
     "output_type": "stream",
     "name": "stdout",
     "text": [
      "{'experiment_0': {'instructions': [('rLx', [0], [0.1]), ('rLx', [3], [0.3]), ('measure', [0], [])], 'num_wires': 4, 'shots': 5}}\n",
      "{'backend_name': 'synqs_multi_qudit_simulator', 'backend_version': '0.0.1', 'job_id': 126, 'qobj_id': None, 'success': True, 'status': 'finished', 'header': {}, 'results': [{'header': {'name': 'MultiQudit', 'extra metadata': 'None'}, 'shots': 5, 'success': True, 'data': {'memory': ['0', '0', '0', '0', '0']}}]}\n"
     ]
    }
   ],
   "metadata": {}
  },
  {
   "cell_type": "code",
   "execution_count": 12,
   "source": [
    "print(quantum_circuit_for_rLx.draw())"
   ],
   "outputs": [
    {
     "output_type": "stream",
     "name": "stdout",
     "text": [
      " 0: ──rLx(0.1)──┤ ⟨Z⟩ \n",
      " 3: ──rLx(0.3)──┤     \n",
      "\n"
     ]
    }
   ],
   "metadata": {}
  },
  {
   "cell_type": "markdown",
   "source": [
    "# Test rLz gate"
   ],
   "metadata": {}
  },
  {
   "cell_type": "code",
   "execution_count": 13,
   "source": [
    "@qml.qnode(multiDevice)\r\n",
    "def quantum_circuit_for_rLz(alpha=0):\r\n",
    "    rLz(0.15,wires=0)\r\n",
    "    rLz(0.2,wires=3)\r\n",
    "    return qml.expval(MultiQuditOps.Z(0))"
   ],
   "outputs": [],
   "metadata": {}
  },
  {
   "cell_type": "code",
   "execution_count": 14,
   "source": [
    "res = quantum_circuit_for_rLz()"
   ],
   "outputs": [
    {
     "output_type": "stream",
     "name": "stdout",
     "text": [
      "{'experiment_0': {'instructions': [('rLz', [0], [0.15]), ('rLz', [3], [0.2]), ('measure', [0], [])], 'num_wires': 4, 'shots': 5}}\n",
      "{'backend_name': 'synqs_multi_qudit_simulator', 'backend_version': '0.0.1', 'job_id': 127, 'qobj_id': None, 'success': True, 'status': 'finished', 'header': {}, 'results': [{'header': {'name': 'MultiQudit', 'extra metadata': 'None'}, 'shots': 5, 'success': True, 'data': {'memory': ['0', '0', '0', '0', '0']}}]}\n"
     ]
    }
   ],
   "metadata": {}
  },
  {
   "cell_type": "code",
   "execution_count": 15,
   "source": [
    "print(quantum_circuit_for_rLz.draw())"
   ],
   "outputs": [
    {
     "output_type": "stream",
     "name": "stdout",
     "text": [
      " 0: ──rLz(0.15)──┤ ⟨Z⟩ \n",
      " 3: ──rLz(0.2)───┤     \n",
      "\n"
     ]
    }
   ],
   "metadata": {}
  },
  {
   "cell_type": "markdown",
   "source": [
    "# Test rLz2 gate"
   ],
   "metadata": {}
  },
  {
   "cell_type": "code",
   "execution_count": 16,
   "source": [
    "@qml.qnode(multiDevice)\r\n",
    "def quantum_circuit_for_rLz2(alpha=0):\r\n",
    "    rLz2(100,wires=0)\r\n",
    "    return qml.expval(MultiQuditOps.Z(0))"
   ],
   "outputs": [],
   "metadata": {}
  },
  {
   "cell_type": "code",
   "execution_count": 17,
   "source": [
    "res = quantum_circuit_for_rLz2()"
   ],
   "outputs": [
    {
     "output_type": "stream",
     "name": "stdout",
     "text": [
      "{'experiment_0': {'instructions': [('rLz2', [0], [100]), ('measure', [0], [])], 'num_wires': 4, 'shots': 5}}\n",
      "{'backend_name': 'synqs_multi_qudit_simulator', 'backend_version': '0.0.1', 'job_id': 128, 'qobj_id': None, 'success': True, 'status': 'finished', 'header': {}, 'results': [{'header': {'name': 'MultiQudit', 'extra metadata': 'None'}, 'shots': 5, 'success': True, 'data': {'memory': ['0', '0', '0', '0', '0']}}]}\n"
     ]
    }
   ],
   "metadata": {}
  },
  {
   "cell_type": "code",
   "execution_count": 18,
   "source": [
    "print(quantum_circuit_for_rLz2.draw())"
   ],
   "outputs": [
    {
     "output_type": "stream",
     "name": "stdout",
     "text": [
      " 0: ──rLz2(100)──┤ ⟨Z⟩ \n",
      "\n"
     ]
    }
   ],
   "metadata": {}
  },
  {
   "cell_type": "markdown",
   "source": [
    "# Test LzLz gate"
   ],
   "metadata": {}
  },
  {
   "cell_type": "code",
   "execution_count": 27,
   "source": [
    "@qml.qnode(multiDevice)\r\n",
    "def quantum_circuit_for_LzLz(alpha=0):\r\n",
    "    load(10,wires=0)\r\n",
    "    MultiQuditOps.LzLz(0.1,wires=[0,1])\r\n",
    "    return qml.expval(MultiQuditOps.Z(0))"
   ],
   "outputs": [],
   "metadata": {}
  },
  {
   "cell_type": "code",
   "execution_count": 28,
   "source": [
    "res = quantum_circuit_for_LzLz()"
   ],
   "outputs": [
    {
     "output_type": "stream",
     "name": "stdout",
     "text": [
      "[0.1]\n",
      "<Wires = [0, 1]>\n",
      "{'experiment_0': {'instructions': [('load', [0], [10]), ('LzLz', [0, 1], [0.1]), ('measure', [0], [])], 'num_wires': 4, 'shots': 5}}\n",
      "{'backend_name': 'synqs_multi_qudit_simulator', 'backend_version': '0.0.1', 'job_id': 131, 'qobj_id': None, 'success': True, 'status': 'finished', 'header': {}, 'results': [{'header': {'name': 'MultiQudit', 'extra metadata': 'None'}, 'shots': 5, 'success': True, 'data': {'memory': ['0', '0', '0', '0', '0']}}]}\n"
     ]
    }
   ],
   "metadata": {}
  },
  {
   "cell_type": "code",
   "execution_count": 29,
   "source": [
    "print(quantum_circuit_for_LzLz.draw())"
   ],
   "outputs": [
    {
     "output_type": "stream",
     "name": "stdout",
     "text": [
      " 0: ──load(10)──╭LzLz(0.1)──┤ ⟨Z⟩ \n",
      " 1: ────────────╰LzLz(0.1)──┤     \n",
      "\n"
     ]
    }
   ],
   "metadata": {}
  },
  {
   "cell_type": "code",
   "execution_count": null,
   "source": [],
   "outputs": [],
   "metadata": {}
  }
 ],
 "metadata": {
  "kernelspec": {
   "display_name": "Python 3 (ipykernel)",
   "language": "python",
   "name": "python3"
  },
  "language_info": {
   "codemirror_mode": {
    "name": "ipython",
    "version": 3
   },
   "file_extension": ".py",
   "mimetype": "text/x-python",
   "name": "python",
   "nbconvert_exporter": "python",
   "pygments_lexer": "ipython3",
   "version": "3.9.1"
  }
 },
 "nbformat": 4,
 "nbformat_minor": 4
}