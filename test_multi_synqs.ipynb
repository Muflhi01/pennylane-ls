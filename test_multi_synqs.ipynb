{
 "cells": [
  {
   "cell_type": "code",
   "execution_count": 41,
   "metadata": {},
   "outputs": [],
   "source": [
    "import pennylane as qml\r\n",
    "import numpy as np\r\n",
    "import sys"
   ]
  },
  {
   "cell_type": "code",
   "execution_count": 42,
   "metadata": {},
   "outputs": [],
   "source": [
    "from pennylane_ls import *\r\n",
    "from pennylane_ls.MultiQuditDevice import MultiQuditDevice"
   ]
  },
  {
   "cell_type": "code",
   "execution_count": 43,
   "metadata": {},
   "outputs": [],
   "source": [
    "from heroku_credentials import username, password"
   ]
  },
  {
   "cell_type": "markdown",
   "metadata": {},
   "source": [
    "# For the multi qudit simulator"
   ]
  },
  {
   "cell_type": "code",
   "execution_count": 44,
   "metadata": {},
   "outputs": [],
   "source": [
    "multiDevice = MultiQuditDevice(wires=4,shots=5, username = username, password = password)"
   ]
  },
  {
   "cell_type": "code",
   "execution_count": 45,
   "metadata": {},
   "outputs": [
    {
     "data": {
      "text/plain": [
       "{'model': 'qudit',\n",
       " 'supports_finite_shots': True,\n",
       " 'supports_tensor_observables': True}"
      ]
     },
     "execution_count": 45,
     "metadata": {},
     "output_type": "execute_result"
    }
   ],
   "source": [
    "multiDevice.capabilities()"
   ]
  },
  {
   "cell_type": "code",
   "execution_count": 46,
   "metadata": {},
   "outputs": [],
   "source": [
    "@qml.qnode(multiDevice)\r\n",
    "def quantum_circuit(alpha=0):\r\n",
    "    MultiQuditOps.rLz(alpha,wires=[0])\r\n",
    "    MultiQuditOps.XY(np.pi,wires=[0,1])\r\n",
    "    MultiQuditOps.rLz(np.pi,wires=[3])\r\n",
    "    obs = MultiQuditOps.Lz(1)\r\n",
    "    return qml.expval(obs)"
   ]
  },
  {
   "cell_type": "code",
   "execution_count": 47,
   "metadata": {},
   "outputs": [
    {
     "data": {
      "text/plain": [
       "tensor(0., requires_grad=False)"
      ]
     },
     "execution_count": 47,
     "metadata": {},
     "output_type": "execute_result"
    }
   ],
   "source": [
    "quantum_circuit()"
   ]
  },
  {
   "cell_type": "code",
   "execution_count": 48,
   "metadata": {},
   "outputs": [
    {
     "name": "stdout",
     "output_type": "stream",
     "text": [
      " 0: ──rLz(0)─────╭XY(3.14)──┤      \n",
      " 1: ─────────────╰XY(3.14)──┤ ⟨Lz⟩ \n",
      " 3: ──rLz(3.14)─────────────┤      \n",
      "\n"
     ]
    }
   ],
   "source": [
    "print(quantum_circuit.draw())"
   ]
  },
  {
   "cell_type": "code",
   "execution_count": 61,
   "metadata": {},
   "outputs": [],
   "source": [
    "@qml.qnode(multiDevice)\r\n",
    "def quantum_circuit2(alpha=0):\r\n",
    "    MultiQuditOps.rLz(alpha,wires=[0])\r\n",
    "    MultiQuditOps.XY(np.pi,wires=[0,1])\r\n",
    "    MultiQuditOps.rLz(np.pi,wires=[3])\r\n",
    "    MultiQuditOps.rLz(np.pi,wires=[2])\r\n",
    "    obs = MultiQuditOps.Lz(1) @ MultiQuditOps.Lz(3)\r\n",
    "    return qml.expval(obs)"
   ]
  },
  {
   "cell_type": "code",
   "execution_count": 62,
   "metadata": {},
   "outputs": [
    {
     "data": {
      "text/plain": [
       "tensor([0., 0.], requires_grad=False)"
      ]
     },
     "execution_count": 62,
     "metadata": {},
     "output_type": "execute_result"
    }
   ],
   "source": [
    "quantum_circuit2()"
   ]
  },
  {
   "cell_type": "code",
   "execution_count": 63,
   "metadata": {},
   "outputs": [
    {
     "name": "stdout",
     "output_type": "stream",
     "text": [
      " 0: ──rLz(0)─────╭XY(3.14)───┤           \n",
      " 1: ─────────────╰XY(3.14)──╭┤ ⟨Lz ⊗ Lz⟩ \n",
      " 2: ──rLz(3.14)─────────────│┤           \n",
      " 3: ──rLz(3.14)─────────────╰┤ ⟨Lz ⊗ Lz⟩ \n",
      "\n"
     ]
    }
   ],
   "source": [
    "print(quantum_circuit2.draw())"
   ]
  },
  {
   "cell_type": "code",
   "execution_count": 64,
   "metadata": {},
   "outputs": [],
   "source": [
    "@qml.qnode(multiDevice)\r\n",
    "def quantum_circuit3(alpha=0):\r\n",
    "    MultiQuditOps.rLz(alpha,wires=[0])\r\n",
    "    MultiQuditOps.XY(np.pi,wires=[0,1])\r\n",
    "    MultiQuditOps.rLz(np.pi,wires=[3])\r\n",
    "    obs = MultiQuditOps.Lz(0) @ MultiQuditOps.Lz(2) @ MultiQuditOps.Lz(3)\r\n",
    "    return qml.expval(obs)"
   ]
  },
  {
   "cell_type": "code",
   "execution_count": 65,
   "metadata": {},
   "outputs": [
    {
     "data": {
      "text/plain": [
       "tensor([0., 0., 0.], requires_grad=False)"
      ]
     },
     "execution_count": 65,
     "metadata": {},
     "output_type": "execute_result"
    }
   ],
   "source": [
    "quantum_circuit3()"
   ]
  },
  {
   "cell_type": "code",
   "execution_count": 66,
   "metadata": {},
   "outputs": [],
   "source": [
    "@qml.qnode(multiDevice)\r\n",
    "def quantum_circuit4(alpha=0):\r\n",
    "    MultiQuditOps.rLz(alpha,wires=[0])\r\n",
    "    MultiQuditOps.XY(np.pi,wires=[0,1])\r\n",
    "    MultiQuditOps.rLz(np.pi,wires=[3])\r\n",
    "    obs = MultiQuditOps.Lz(1)\r\n",
    "    return qml.sample(obs)"
   ]
  },
  {
   "cell_type": "code",
   "execution_count": 67,
   "metadata": {},
   "outputs": [
    {
     "data": {
      "text/plain": [
       "array([0., 0., 0., 0., 0.])"
      ]
     },
     "execution_count": 67,
     "metadata": {},
     "output_type": "execute_result"
    }
   ],
   "source": [
    "quantum_circuit4()"
   ]
  },
  {
   "cell_type": "code",
   "execution_count": 68,
   "metadata": {},
   "outputs": [
    {
     "name": "stdout",
     "output_type": "stream",
     "text": [
      " 0: ──rLz(0)─────╭XY(3.14)──┤            \n",
      " 1: ─────────────╰XY(3.14)──┤ Sample[Lz] \n",
      " 3: ──rLz(3.14)─────────────┤            \n",
      "\n"
     ]
    }
   ],
   "source": [
    "print(quantum_circuit4.draw())"
   ]
  },
  {
   "cell_type": "code",
   "execution_count": 69,
   "metadata": {},
   "outputs": [],
   "source": [
    "@qml.qnode(multiDevice)\r\n",
    "def quantum_circuit5(alpha=0):\r\n",
    "    MultiQuditOps.rLz(alpha,wires=[0])\r\n",
    "    MultiQuditOps.XY(np.pi,wires=[0,1])\r\n",
    "    MultiQuditOps.rLz(np.pi,wires=[3])\r\n",
    "    obs = MultiQuditOps.Lz(1) @ MultiQuditOps.Lz(2)\r\n",
    "    return qml.sample(obs)"
   ]
  },
  {
   "cell_type": "code",
   "execution_count": 70,
   "metadata": {},
   "outputs": [
    {
     "data": {
      "text/plain": [
       "array([[0., 0.],\n",
       "       [0., 0.],\n",
       "       [0., 0.],\n",
       "       [0., 0.],\n",
       "       [0., 0.]])"
      ]
     },
     "execution_count": 70,
     "metadata": {},
     "output_type": "execute_result"
    }
   ],
   "source": [
    "res = quantum_circuit5()\r\n",
    "res"
   ]
  },
  {
   "cell_type": "code",
   "execution_count": 71,
   "metadata": {},
   "outputs": [
    {
     "name": "stdout",
     "output_type": "stream",
     "text": [
      " 0: ──rLz(0)─────╭XY(3.14)───┤                 \n",
      " 1: ─────────────╰XY(3.14)──╭┤ Sample[Lz ⊗ Lz] \n",
      " 2: ────────────────────────╰┤ Sample[Lz ⊗ Lz] \n",
      " 3: ──rLz(3.14)──────────────┤                 \n",
      "\n"
     ]
    }
   ],
   "source": [
    "print(quantum_circuit5.draw())"
   ]
  },
  {
   "cell_type": "code",
   "execution_count": 72,
   "metadata": {},
   "outputs": [
    {
     "data": {
      "text/plain": [
       "array([[0., 0.],\n",
       "       [0., 0.],\n",
       "       [0., 0.],\n",
       "       [0., 0.],\n",
       "       [0., 0.]])"
      ]
     },
     "execution_count": 72,
     "metadata": {},
     "output_type": "execute_result"
    }
   ],
   "source": [
    "res"
   ]
  },
  {
   "cell_type": "code",
   "execution_count": null,
   "metadata": {},
   "outputs": [],
   "source": []
  }
 ],
 "metadata": {
  "kernelspec": {
   "display_name": "Python 3 (ipykernel)",
   "language": "python",
   "name": "python3"
  },
  "language_info": {
   "codemirror_mode": {
    "name": "ipython",
    "version": 3
   },
   "file_extension": ".py",
   "mimetype": "text/x-python",
   "name": "python",
   "nbconvert_exporter": "python",
   "pygments_lexer": "ipython3",
   "version": "3.9.1"
  }
 },
 "nbformat": 4,
 "nbformat_minor": 4
}
