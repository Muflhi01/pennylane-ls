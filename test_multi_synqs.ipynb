{
 "cells": [
  {
   "cell_type": "code",
   "execution_count": 41,
   "source": [
    "import pennylane as qml\r\n",
    "import numpy as np\r\n",
    "import sys"
   ],
   "outputs": [],
   "metadata": {}
  },
  {
   "cell_type": "code",
   "execution_count": 42,
   "source": [
    "from pennylane_ls import *\r\n",
    "from pennylane_ls.MultiQuditDevice import MultiQuditDevice"
   ],
   "outputs": [],
   "metadata": {}
  },
  {
   "cell_type": "code",
   "execution_count": 43,
   "source": [
    "from heroku_credentials import username, password"
   ],
   "outputs": [],
   "metadata": {}
  },
  {
   "cell_type": "markdown",
   "source": [
    "# For the multi qudit simulator"
   ],
   "metadata": {}
  },
  {
   "cell_type": "code",
   "execution_count": 44,
   "source": [
    "multiDevice = MultiQuditDevice(wires=4,shots=5, username = username, password = password)"
   ],
   "outputs": [],
   "metadata": {}
  },
  {
   "cell_type": "code",
   "execution_count": 45,
   "source": [
    "multiDevice.capabilities()"
   ],
   "outputs": [
    {
     "output_type": "execute_result",
     "data": {
      "text/plain": [
       "{'model': 'qudit',\n",
       " 'supports_finite_shots': True,\n",
       " 'supports_tensor_observables': True}"
      ]
     },
     "metadata": {},
     "execution_count": 45
    }
   ],
   "metadata": {}
  },
  {
   "cell_type": "code",
   "execution_count": 46,
   "source": [
    "@qml.qnode(multiDevice)\r\n",
    "def quantum_circuit(alpha=0):\r\n",
    "    MultiQuditOps.rLz(alpha,wires=[0])\r\n",
    "    MultiQuditOps.XY(np.pi,wires=[0,1])\r\n",
    "    MultiQuditOps.rLz(np.pi,wires=[3])\r\n",
    "    obs = MultiQuditOps.Lz(1)\r\n",
    "    return qml.expval(obs)"
   ],
   "outputs": [],
   "metadata": {}
  },
  {
   "cell_type": "code",
   "execution_count": 47,
   "source": [
    "quantum_circuit()"
   ],
   "outputs": [
    {
     "output_type": "execute_result",
     "data": {
      "text/plain": [
       "tensor(0., requires_grad=False)"
      ]
     },
     "metadata": {},
     "execution_count": 47
    }
   ],
   "metadata": {}
  },
  {
   "cell_type": "code",
   "execution_count": 48,
   "source": [
    "print(quantum_circuit.draw())"
   ],
   "outputs": [
    {
     "output_type": "stream",
     "name": "stdout",
     "text": [
      " 0: ──rLz(0)─────╭XY(3.14)──┤      \n",
      " 1: ─────────────╰XY(3.14)──┤ ⟨Lz⟩ \n",
      " 3: ──rLz(3.14)─────────────┤      \n",
      "\n"
     ]
    }
   ],
   "metadata": {}
  },
  {
   "cell_type": "code",
   "execution_count": 61,
   "source": [
    "@qml.qnode(multiDevice)\r\n",
    "def quantum_circuit2(alpha=0):\r\n",
    "    MultiQuditOps.rLz(alpha,wires=[0])\r\n",
    "    MultiQuditOps.XY(np.pi,wires=[0,1])\r\n",
    "    MultiQuditOps.rLz(np.pi,wires=[3])\r\n",
    "    MultiQuditOps.rLz(np.pi,wires=[2])\r\n",
    "    obs = MultiQuditOps.Lz(1) @ MultiQuditOps.Lz(3)\r\n",
    "    return qml.expval(obs)"
   ],
   "outputs": [],
   "metadata": {}
  },
  {
   "cell_type": "code",
   "execution_count": 62,
   "source": [
    "quantum_circuit2()"
   ],
   "outputs": [
    {
     "output_type": "execute_result",
     "data": {
      "text/plain": [
       "tensor([0., 0.], requires_grad=False)"
      ]
     },
     "metadata": {},
     "execution_count": 62
    }
   ],
   "metadata": {}
  },
  {
   "cell_type": "code",
   "execution_count": 63,
   "source": [
    "print(quantum_circuit2.draw())"
   ],
   "outputs": [
    {
     "output_type": "stream",
     "name": "stdout",
     "text": [
      " 0: ──rLz(0)─────╭XY(3.14)───┤           \n",
      " 1: ─────────────╰XY(3.14)──╭┤ ⟨Lz ⊗ Lz⟩ \n",
      " 2: ──rLz(3.14)─────────────│┤           \n",
      " 3: ──rLz(3.14)─────────────╰┤ ⟨Lz ⊗ Lz⟩ \n",
      "\n"
     ]
    }
   ],
   "metadata": {}
  },
  {
   "cell_type": "code",
   "execution_count": 64,
   "source": [
    "@qml.qnode(multiDevice)\r\n",
    "def quantum_circuit3(alpha=0):\r\n",
    "    MultiQuditOps.rLz(alpha,wires=[0])\r\n",
    "    MultiQuditOps.XY(np.pi,wires=[0,1])\r\n",
    "    MultiQuditOps.rLz(np.pi,wires=[3])\r\n",
    "    obs = MultiQuditOps.Lz(0) @ MultiQuditOps.Lz(2) @ MultiQuditOps.Lz(3)\r\n",
    "    return qml.expval(obs)"
   ],
   "outputs": [],
   "metadata": {}
  },
  {
   "cell_type": "code",
   "execution_count": 65,
   "source": [
    "quantum_circuit3()"
   ],
   "outputs": [
    {
     "output_type": "execute_result",
     "data": {
      "text/plain": [
       "tensor([0., 0., 0.], requires_grad=False)"
      ]
     },
     "metadata": {},
     "execution_count": 65
    }
   ],
   "metadata": {}
  },
  {
   "cell_type": "code",
   "execution_count": 66,
   "source": [
    "@qml.qnode(multiDevice)\r\n",
    "def quantum_circuit4(alpha=0):\r\n",
    "    MultiQuditOps.rLz(alpha,wires=[0])\r\n",
    "    MultiQuditOps.XY(np.pi,wires=[0,1])\r\n",
    "    MultiQuditOps.rLz(np.pi,wires=[3])\r\n",
    "    obs = MultiQuditOps.Lz(1)\r\n",
    "    return qml.sample(obs)"
   ],
   "outputs": [],
   "metadata": {}
  },
  {
   "cell_type": "code",
   "execution_count": 67,
   "source": [
    "quantum_circuit4()"
   ],
   "outputs": [
    {
     "output_type": "execute_result",
     "data": {
      "text/plain": [
       "array([0., 0., 0., 0., 0.])"
      ]
     },
     "metadata": {},
     "execution_count": 67
    }
   ],
   "metadata": {}
  },
  {
   "cell_type": "code",
   "execution_count": 68,
   "source": [
    "print(quantum_circuit4.draw())"
   ],
   "outputs": [
    {
     "output_type": "stream",
     "name": "stdout",
     "text": [
      " 0: ──rLz(0)─────╭XY(3.14)──┤            \n",
      " 1: ─────────────╰XY(3.14)──┤ Sample[Lz] \n",
      " 3: ──rLz(3.14)─────────────┤            \n",
      "\n"
     ]
    }
   ],
   "metadata": {}
  },
  {
   "cell_type": "code",
   "execution_count": 69,
   "source": [
    "@qml.qnode(multiDevice)\r\n",
    "def quantum_circuit5(alpha=0):\r\n",
    "    MultiQuditOps.rLz(alpha,wires=[0])\r\n",
    "    MultiQuditOps.XY(np.pi,wires=[0,1])\r\n",
    "    MultiQuditOps.rLz(np.pi,wires=[3])\r\n",
    "    obs = MultiQuditOps.Lz(1) @ MultiQuditOps.Lz(2)\r\n",
    "    return qml.sample(obs)"
   ],
   "outputs": [],
   "metadata": {}
  },
  {
   "cell_type": "code",
   "execution_count": 70,
   "source": [
    "res = quantum_circuit5()\r\n",
    "res"
   ],
   "outputs": [
    {
     "output_type": "execute_result",
     "data": {
      "text/plain": [
       "array([[0., 0.],\n",
       "       [0., 0.],\n",
       "       [0., 0.],\n",
       "       [0., 0.],\n",
       "       [0., 0.]])"
      ]
     },
     "metadata": {},
     "execution_count": 70
    }
   ],
   "metadata": {}
  },
  {
   "cell_type": "code",
   "execution_count": 71,
   "source": [
    "print(quantum_circuit5.draw())"
   ],
   "outputs": [
    {
     "output_type": "stream",
     "name": "stdout",
     "text": [
      " 0: ──rLz(0)─────╭XY(3.14)───┤                 \n",
      " 1: ─────────────╰XY(3.14)──╭┤ Sample[Lz ⊗ Lz] \n",
      " 2: ────────────────────────╰┤ Sample[Lz ⊗ Lz] \n",
      " 3: ──rLz(3.14)──────────────┤                 \n",
      "\n"
     ]
    }
   ],
   "metadata": {}
  },
  {
   "cell_type": "code",
   "execution_count": 72,
   "source": [
    "res"
   ],
   "outputs": [
    {
     "output_type": "execute_result",
     "data": {
      "text/plain": [
       "array([[0., 0.],\n",
       "       [0., 0.],\n",
       "       [0., 0.],\n",
       "       [0., 0.],\n",
       "       [0., 0.]])"
      ]
     },
     "metadata": {},
     "execution_count": 72
    }
   ],
   "metadata": {}
  },
  {
   "cell_type": "code",
   "execution_count": null,
   "source": [],
   "outputs": [],
   "metadata": {}
  }
 ],
 "metadata": {
  "kernelspec": {
   "display_name": "Python 3 (ipykernel)",
   "language": "python",
   "name": "python3"
  },
  "language_info": {
   "codemirror_mode": {
    "name": "ipython",
    "version": 3
   },
   "file_extension": ".py",
   "mimetype": "text/x-python",
   "name": "python",
   "nbconvert_exporter": "python",
   "pygments_lexer": "ipython3",
   "version": "3.9.5"
  }
 },
 "nbformat": 4,
 "nbformat_minor": 4
}