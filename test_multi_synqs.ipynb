{
 "cells": [
  {
   "cell_type": "code",
   "execution_count": 1,
   "source": [
    "import pennylane as qml\r\n",
    "import numpy as np\r\n",
    "import sys"
   ],
   "outputs": [],
   "metadata": {}
  },
  {
   "cell_type": "code",
   "execution_count": 2,
   "source": [
    "from pennylane_ls import *\r\n",
    "from pennylane_ls.MultiQuditDevice import MultiQuditDevice"
   ],
   "outputs": [],
   "metadata": {}
  },
  {
   "cell_type": "code",
   "execution_count": 3,
   "source": [
    "from heroku_credentials import username, password"
   ],
   "outputs": [],
   "metadata": {}
  },
  {
   "cell_type": "markdown",
   "source": [
    "# For the multi qudit simulator"
   ],
   "metadata": {}
  },
  {
   "cell_type": "code",
   "execution_count": 4,
   "source": [
    "multiDevice = MultiQuditDevice(wires=4,shots=3, username = username, password = password)"
   ],
   "outputs": [],
   "metadata": {}
  },
  {
   "cell_type": "code",
   "execution_count": 5,
   "source": [
    "multiDevice.capabilities()"
   ],
   "outputs": [
    {
     "output_type": "execute_result",
     "data": {
      "text/plain": [
       "{'model': 'qudit',\n",
       " 'supports_finite_shots': True,\n",
       " 'supports_tensor_observables': True}"
      ]
     },
     "metadata": {},
     "execution_count": 5
    }
   ],
   "metadata": {}
  },
  {
   "cell_type": "code",
   "execution_count": 6,
   "source": [
    "@qml.qnode(multiDevice)\r\n",
    "def quantum_circuit(alpha=0):\r\n",
    "    MultiQuditOps.rLz(alpha,wires=[0])\r\n",
    "    MultiQuditOps.XY(np.pi,wires=[0,1])\r\n",
    "    MultiQuditOps.rLz(np.pi,wires=[3])\r\n",
    "    obs = MultiQuditOps.Lz(1)\r\n",
    "    return qml.expval(obs)"
   ],
   "outputs": [],
   "metadata": {}
  },
  {
   "cell_type": "code",
   "execution_count": 7,
   "source": [
    "quantum_circuit()"
   ],
   "outputs": [
    {
     "output_type": "execute_result",
     "data": {
      "text/plain": [
       "tensor(0., requires_grad=False)"
      ]
     },
     "metadata": {},
     "execution_count": 7
    }
   ],
   "metadata": {}
  },
  {
   "cell_type": "code",
   "execution_count": 8,
   "source": [
    "print(quantum_circuit.draw())"
   ],
   "outputs": [
    {
     "output_type": "stream",
     "name": "stdout",
     "text": [
      " 0: ──rLz(0)─────╭XY(3.14)──┤      \n",
      " 1: ─────────────╰XY(3.14)──┤ ⟨Lz⟩ \n",
      " 3: ──rLz(3.14)─────────────┤      \n",
      "\n"
     ]
    }
   ],
   "metadata": {}
  },
  {
   "cell_type": "code",
   "execution_count": 9,
   "source": [
    "@qml.qnode(multiDevice)\r\n",
    "def quantum_circuit2(alpha=0):\r\n",
    "    MultiQuditOps.rLz(alpha,wires=[0])\r\n",
    "    MultiQuditOps.XY(np.pi,wires=[0,1])\r\n",
    "    MultiQuditOps.rLz(np.pi,wires=[3])\r\n",
    "    obs = MultiQuditOps.Lz(1) @ MultiQuditOps.Lz(2)\r\n",
    "    return qml.expval(obs)"
   ],
   "outputs": [],
   "metadata": {}
  },
  {
   "cell_type": "code",
   "execution_count": 10,
   "source": [
    "quantum_circuit2()"
   ],
   "outputs": [
    {
     "output_type": "execute_result",
     "data": {
      "text/plain": [
       "tensor([0., 0.], requires_grad=False)"
      ]
     },
     "metadata": {},
     "execution_count": 10
    }
   ],
   "metadata": {}
  },
  {
   "cell_type": "code",
   "execution_count": 11,
   "source": [
    "print(quantum_circuit2.draw())"
   ],
   "outputs": [
    {
     "output_type": "stream",
     "name": "stdout",
     "text": [
      " 0: ──rLz(0)─────╭XY(3.14)───┤           \n",
      " 1: ─────────────╰XY(3.14)──╭┤ ⟨Lz ⊗ Lz⟩ \n",
      " 2: ────────────────────────╰┤ ⟨Lz ⊗ Lz⟩ \n",
      " 3: ──rLz(3.14)──────────────┤           \n",
      "\n"
     ]
    }
   ],
   "metadata": {}
  },
  {
   "cell_type": "code",
   "execution_count": null,
   "source": [
    "@qml.qnode(multiDevice)\r\n",
    "def quantum_circuit3(alpha=0):\r\n",
    "    MultiQuditOps.rLz(alpha,wires=[0])\r\n",
    "    MultiQuditOps.XY(np.pi,wires=[0,1])\r\n",
    "    MultiQuditOps.rLz(np.pi,wires=[3])\r\n",
    "    obs = MultiQuditOps.Lz(1) @ MultiQuditOps.Lz(2) @ MultiQuditOps.Lz(4)\r\n",
    "    return qml.expval(obs)"
   ],
   "outputs": [],
   "metadata": {}
  },
  {
   "cell_type": "code",
   "execution_count": 12,
   "source": [
    "@qml.qnode(multiDevice)\r\n",
    "def quantum_circuit3(alpha=0):\r\n",
    "    MultiQuditOps.rLz(alpha,wires=[0])\r\n",
    "    MultiQuditOps.XY(np.pi,wires=[0,1])\r\n",
    "    MultiQuditOps.rLz(np.pi,wires=[3])\r\n",
    "    obs = MultiQuditOps.Lz(1)\r\n",
    "    return qml.sample(obs)"
   ],
   "outputs": [],
   "metadata": {}
  },
  {
   "cell_type": "code",
   "execution_count": 13,
   "source": [
    "quantum_circuit3()"
   ],
   "outputs": [
    {
     "output_type": "execute_result",
     "data": {
      "text/plain": [
       "array([0., 0., 0.])"
      ]
     },
     "metadata": {},
     "execution_count": 13
    }
   ],
   "metadata": {}
  },
  {
   "cell_type": "code",
   "execution_count": 14,
   "source": [
    "print(quantum_circuit3.draw())"
   ],
   "outputs": [
    {
     "output_type": "stream",
     "name": "stdout",
     "text": [
      " 0: ──rLz(0)─────╭XY(3.14)──┤            \n",
      " 1: ─────────────╰XY(3.14)──┤ Sample[Lz] \n",
      " 3: ──rLz(3.14)─────────────┤            \n",
      "\n"
     ]
    }
   ],
   "metadata": {}
  },
  {
   "cell_type": "code",
   "execution_count": 15,
   "source": [
    "@qml.qnode(multiDevice)\r\n",
    "def quantum_circuit4(alpha=0):\r\n",
    "    MultiQuditOps.rLz(alpha,wires=[0])\r\n",
    "    MultiQuditOps.XY(np.pi,wires=[0,1])\r\n",
    "    MultiQuditOps.rLz(np.pi,wires=[3])\r\n",
    "    obs = MultiQuditOps.Lz(1) @ MultiQuditOps.Lz(2)\r\n",
    "    return qml.sample(obs)"
   ],
   "outputs": [],
   "metadata": {}
  },
  {
   "cell_type": "code",
   "execution_count": 19,
   "source": [
    "res = quantum_circuit4()\r\n",
    "res"
   ],
   "outputs": [
    {
     "output_type": "execute_result",
     "data": {
      "text/plain": [
       "array([[0., 0.],\n",
       "       [0., 0.],\n",
       "       [0., 0.]])"
      ]
     },
     "metadata": {},
     "execution_count": 19
    }
   ],
   "metadata": {}
  },
  {
   "cell_type": "code",
   "execution_count": 17,
   "source": [
    "print(quantum_circuit4.draw())"
   ],
   "outputs": [
    {
     "output_type": "stream",
     "name": "stdout",
     "text": [
      " 0: ──rLz(0)─────╭XY(3.14)───┤                 \n",
      " 1: ─────────────╰XY(3.14)──╭┤ Sample[Lz ⊗ Lz] \n",
      " 2: ────────────────────────╰┤ Sample[Lz ⊗ Lz] \n",
      " 3: ──rLz(3.14)──────────────┤                 \n",
      "\n"
     ]
    }
   ],
   "metadata": {}
  },
  {
   "cell_type": "code",
   "execution_count": 18,
   "source": [
    "res"
   ],
   "outputs": [
    {
     "output_type": "execute_result",
     "data": {
      "text/plain": [
       "array([[0., 0.],\n",
       "       [0., 0.],\n",
       "       [0., 0.]])"
      ]
     },
     "metadata": {},
     "execution_count": 18
    }
   ],
   "metadata": {}
  },
  {
   "cell_type": "code",
   "execution_count": null,
   "source": [],
   "outputs": [],
   "metadata": {}
  }
 ],
 "metadata": {
  "kernelspec": {
   "display_name": "Python 3 (ipykernel)",
   "language": "python",
   "name": "python3"
  },
  "language_info": {
   "codemirror_mode": {
    "name": "ipython",
    "version": 3
   },
   "file_extension": ".py",
   "mimetype": "text/x-python",
   "name": "python",
   "nbconvert_exporter": "python",
   "pygments_lexer": "ipython3",
   "version": "3.9.5"
  }
 },
 "nbformat": 4,
 "nbformat_minor": 4
}