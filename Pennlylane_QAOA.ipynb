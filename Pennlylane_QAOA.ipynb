{
 "cells": [
  {
   "cell_type": "code",
   "execution_count": 1,
   "metadata": {},
   "outputs": [],
   "source": [
    "import pennylane as qml\n",
    "import numpy as np\n",
    "import sys\n",
    "\n",
    "%load_ext autoreload\n",
    "%autoreload 2"
   ]
  },
  {
   "cell_type": "code",
   "execution_count": 2,
   "metadata": {},
   "outputs": [],
   "source": [
    "from pennylane_ls import *\n",
    "from pennylane_ls.MultiQuditDevice import MultiQuditDevice"
   ]
  },
  {
   "cell_type": "code",
   "execution_count": 3,
   "metadata": {},
   "outputs": [],
   "source": [
    "from heroku_credentials import username, password\n",
    "#from local_credentials  import username, password"
   ]
  },
  {
   "cell_type": "markdown",
   "metadata": {},
   "source": [
    "We build up the circuit for the QAOA in Pennylane. We do this (for now) for a fixed number of qudits and fixed dimension d. We take the following instance of our benchmark suite:\n",
    "\n",
    "exp_dict['ExpA1']={ 'jm':[0,1],\\\n",
    "                    'pv':[0,1],\\\n",
    "                    'emax':1,\\\n",
    "                    'emin':0 }"
   ]
  },
  {
   "cell_type": "code",
   "execution_count": 8,
   "metadata": {},
   "outputs": [],
   "source": [
    "multiDeviceQAOA = MultiQuditDevice(wires=8,shots=5, username = username, password = password)"
   ]
  },
  {
   "cell_type": "code",
   "execution_count": 12,
   "metadata": {},
   "outputs": [],
   "source": [
    "jm = np.array([0,1])\n",
    "pv = np.array([0,1])\n",
    "emax = 1\n",
    "emin = 0\n",
    "\n",
    "num_tsteps = len(jm)\n",
    "dim_qudit = int(np.max(jm)+1)\n",
    "num_qudit = int(2*num_tsteps + 2)\n",
    "l = (dim_qudit-1)/2\n",
    "\n",
    "\n",
    "@qml.qnode(multiDeviceQAOA)\n",
    "def quantum_circuit_simpleQAOA(alpha=[0,0]):\n",
    "    gamma = 1\n",
    "    beta = 1\n",
    "    for i in range(0, num_qudit):\n",
    "        load(dim_qudit-1+3, wires=i)#we load atomnumbers here, therefore the -1\n",
    "    for j in range(0, num_tsteps):#first part of hamiltonian\n",
    "        rLz2(gamma, wires = j)\n",
    "        rLz(gamma*2*(l-pv[j]), wires = j)\n",
    "    for n in range(0, num_tsteps):\n",
    "        rLz2(gamma,wires = n)\n",
    "        rLz2(gamma, wires = num_tsteps + n)\n",
    "        MultiQuditOps.LzLz(gamma*2,wires=[n, n+num_tsteps])\n",
    "    return qml.expval(MultiQuditOps.Z(0))"
   ]
  },
  {
   "cell_type": "code",
   "execution_count": 13,
   "metadata": {},
   "outputs": [],
   "source": [
    "res = quantum_circuit_simpleQAOA(alpha=0)"
   ]
  },
  {
   "cell_type": "code",
   "execution_count": 14,
   "metadata": {},
   "outputs": [
    {
     "name": "stdout",
     "output_type": "stream",
     "text": [
      " 0: ──load(4)──rLz2(1)──rLz(1)───rLz2(1)────────────╭LzLz(2)──┤ ⟨Z⟩ \n",
      " 1: ──load(4)──rLz2(1)──rLz(-1)──rLz2(1)──╭LzLz(2)──│─────────┤     \n",
      " 2: ──load(4)──rLz2(1)────────────────────│─────────╰LzLz(2)──┤     \n",
      " 3: ──load(4)──rLz2(1)────────────────────╰LzLz(2)────────────┤     \n",
      " 4: ──load(4)─────────────────────────────────────────────────┤     \n",
      " 5: ──load(4)─────────────────────────────────────────────────┤     \n",
      "\n"
     ]
    }
   ],
   "source": [
    "print(quantum_circuit_simpleQAOA.draw())"
   ]
  },
  {
   "cell_type": "markdown",
   "metadata": {},
   "source": [
    "We have to implement the squared sum parts of the Hamiltonian and the Mixer."
   ]
  }
 ],
 "metadata": {
  "kernelspec": {
   "display_name": "Python 3",
   "language": "python",
   "name": "python3"
  },
  "language_info": {
   "codemirror_mode": {
    "name": "ipython",
    "version": 3
   },
   "file_extension": ".py",
   "mimetype": "text/x-python",
   "name": "python",
   "nbconvert_exporter": "python",
   "pygments_lexer": "ipython3",
   "version": "3.8.5"
  }
 },
 "nbformat": 4,
 "nbformat_minor": 4
}
