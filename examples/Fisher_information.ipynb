{
 "cells": [
  {
   "cell_type": "code",
   "execution_count": 3,
   "metadata": {},
   "outputs": [],
   "source": [
    "import pennylane as qml\n",
    "import numpy as np\n",
    "import matplotlib.pyplot as plt\n",
    "\n",
    "import strawberryfields as sf\n",
    "from strawberryfields import ops\n",
    "\n",
    "%config InlineBackend.figure_format='retina'"
   ]
  },
  {
   "cell_type": "markdown",
   "metadata": {},
   "source": [
    "At first we want to see how we can implement the $\\hat{L}_z^2$ operation in the pennylane language. Just like in the example of the paper of Cindy Regal we will start off by modeling the number of $|\\uparrow\\rangle$ states and $|\\downarrow\\rangle$ states with Fock states. This is called \"dual rail encoding\". <font color=purple> This is also exactly what we do physically. It is also called Schwinger representation of a spin. All different names for the same thing ...</font>\n",
    "\n",
    "We can write the $\\hat{L}_z^2$ operator in exponential from with Kerr $K_i(\\kappa)=e^{i\\kappa n_i^2}$ and Cross-Kerr gates $KC_{i, j}(\\kappa)=e^{i\\kappa n_in_j}$. $\\hat{L}_z^2 = (n_1 - n_2)^2 = n_1^2 - 2n_1n_2 + n_2^2$."
   ]
  },
  {
   "cell_type": "code",
   "execution_count": 4,
   "metadata": {},
   "outputs": [],
   "source": [
    "dev = qml.device('strawberryfields.fock', wires=2, cutoff_dim=11)\n",
    "\n",
    "@qml.qnode(dev)\n",
    "def Kerr_test(kappa, var=False):\n",
    "    qml.FockState(5, wires=0)\n",
    "    qml.FockState(0, wires=1)\n",
    "    qml.Kerr(kappa, wires=0)\n",
    "    qml.Kerr(kappa, wires=1)\n",
    "    qml.CrossKerr(-kappa*2, wires=[0, 1])\n",
    "    if var:  \n",
    "        return [qml.var(qml.NumberOperator(0)),qml.var(qml.NumberOperator(1))]\n",
    "    else:\n",
    "        return [qml.expval(qml.NumberOperator(0)),qml.expval(qml.NumberOperator(1))]\n",
    "    \n"
   ]
  },
  {
   "cell_type": "code",
   "execution_count": 5,
   "metadata": {},
   "outputs": [
    {
     "name": "stdout",
     "output_type": "stream",
     "text": [
      " 0: ──|5⟩──Kerr(1)──╭CrossKerr(-2)──┤ ⟨n⟩ \n",
      " 1: ──|0⟩──Kerr(1)──╰CrossKerr(-2)──┤ ⟨n⟩ \n",
      "\n"
     ]
    }
   ],
   "source": [
    "Kerr_test(1)\n",
    "print(Kerr_test.draw())"
   ]
  },
  {
   "cell_type": "code",
   "execution_count": 6,
   "metadata": {},
   "outputs": [
    {
     "name": "stdout",
     "output_type": "stream",
     "text": [
      "[5. 0.]\n",
      "variance = [0. 0.]\n"
     ]
    }
   ],
   "source": [
    "print(Kerr_test(1))\n",
    "\n",
    "\n",
    "print(\"variance =\", Kerr_test(1, var=True))"
   ]
  },
  {
   "cell_type": "code",
   "execution_count": 7,
   "metadata": {},
   "outputs": [],
   "source": [
    "dev = qml.device('strawberryfields.fock', wires=2, cutoff_dim=11)\n",
    "\n",
    "@qml.qnode(dev)\n",
    "def Kerr_beamsplitter(theta, kappa, var=False):\n",
    "    qml.FockState(5, wires=0)\n",
    "    qml.FockState(0, wires=1)\n",
    "    \n",
    "    qml.Beamsplitter(theta, 0, wires=[0, 1])\n",
    "    qml.Kerr(kappa, wires=0)\n",
    "    qml.Kerr(kappa, wires=1)\n",
    "    qml.CrossKerr(-kappa*2, wires=[0, 1])\n",
    "    if var:  \n",
    "        return [qml.var(qml.NumberOperator(0)),qml.var(qml.NumberOperator(1))]\n",
    "    else:\n",
    "        return [qml.expval(qml.NumberOperator(0)),qml.expval(qml.NumberOperator(1))]\n",
    "    \n",
    "\n"
   ]
  },
  {
   "cell_type": "code",
   "execution_count": 8,
   "metadata": {},
   "outputs": [
    {
     "name": "stdout",
     "output_type": "stream",
     "text": [
      "[array([1.45963291, 3.54036709]), array([1.45963291, 3.54036709]), array([1.45963291, 3.54036709]), array([1.45963291, 3.54036709]), array([1.45963291, 3.54036709]), array([1.45963291, 3.54036709]), array([1.45963291, 3.54036709]), array([1.45963291, 3.54036709]), array([1.45963291, 3.54036709]), array([1.45963291, 3.54036709])]\n"
     ]
    }
   ],
   "source": [
    "thetas = np.linspace(0, np.pi/2, 10)\n",
    "print(list(Kerr_beamsplitter(1, theta) for theta in thetas))"
   ]
  },
  {
   "cell_type": "markdown",
   "metadata": {},
   "source": [
    "Direct implementation in the stawberryfields plugin to extract samples"
   ]
  },
  {
   "cell_type": "code",
   "execution_count": 9,
   "metadata": {},
   "outputs": [],
   "source": [
    "def circuit(theta, kappa, bs=False):\n",
    "    prog = sf.Program(2)\n",
    "    with prog.context as q:\n",
    "        ops.Fock(5) | q[0]\n",
    "        ops.Fock(0) | q[1]\n",
    "        if bs:            \n",
    "            ops.BSgate(theta, 0) | (q[0], q[1])\n",
    "            \n",
    "        ops.Kgate(kappa)   | q[0]\n",
    "        ops.CKgate(kappa)  | (q[0], q[1])\n",
    "        ops.Kgate(-2*kappa)| q[1]\n",
    "\n",
    "        ops.MeasureFock()| q\n",
    "    eng = sf.Engine(\"fock\", backend_options={\"cutoff_dim\" :  10})\n",
    "    result = eng.run(prog)\n",
    "    return result\n",
    "\n"
   ]
  },
  {
   "cell_type": "code",
   "execution_count": 10,
   "metadata": {},
   "outputs": [],
   "source": [
    "thetas = np.linspace(0 ,np.pi/2, 15)\n",
    "result = np.array([circuit(i, 1).samples for i in thetas])\n",
    "result_bs = np.array([circuit(i, 1, bs=True).samples for i in thetas])"
   ]
  },
  {
   "cell_type": "code",
   "execution_count": 11,
   "metadata": {},
   "outputs": [
    {
     "name": "stdout",
     "output_type": "stream",
     "text": [
      "[[[5 0]]\n",
      "\n",
      " [[5 0]]\n",
      "\n",
      " [[5 0]]\n",
      "\n",
      " [[5 0]]\n",
      "\n",
      " [[5 0]]\n",
      "\n",
      " [[5 0]]\n",
      "\n",
      " [[5 0]]\n",
      "\n",
      " [[5 0]]\n",
      "\n",
      " [[5 0]]\n",
      "\n",
      " [[5 0]]\n",
      "\n",
      " [[5 0]]\n",
      "\n",
      " [[5 0]]\n",
      "\n",
      " [[5 0]]\n",
      "\n",
      " [[5 0]]\n",
      "\n",
      " [[5 0]]]\n",
      "\n",
      "[[[5 0]]\n",
      "\n",
      " [[5 0]]\n",
      "\n",
      " [[5 0]]\n",
      "\n",
      " [[4 1]]\n",
      "\n",
      " [[4 1]]\n",
      "\n",
      " [[4 1]]\n",
      "\n",
      " [[4 1]]\n",
      "\n",
      " [[2 3]]\n",
      "\n",
      " [[2 3]]\n",
      "\n",
      " [[0 5]]\n",
      "\n",
      " [[1 4]]\n",
      "\n",
      " [[1 4]]\n",
      "\n",
      " [[0 5]]\n",
      "\n",
      " [[1 4]]\n",
      "\n",
      " [[0 5]]]\n"
     ]
    }
   ],
   "source": [
    "\n",
    "print(result)\n",
    "print(\"\")\n",
    "print(result_bs)"
   ]
  },
  {
   "cell_type": "code",
   "execution_count": 12,
   "metadata": {},
   "outputs": [],
   "source": [
    "thetas = np.linspace(0 ,np.pi/2, 15)\n",
    "result = [circuit(i, 0).samples for i in thetas]"
   ]
  },
  {
   "cell_type": "markdown",
   "metadata": {},
   "source": [
    "# Ramsey\n",
    "\n",
    "Let us implement a simple example, where the $L_z^2$ is sandwiched in between two symmetric beamsplitters:\n",
    "\n",
    "- A first beamsplitter around $X$ moves the spin onto the equator centered around $Y$.\n",
    "- The non-linearity squeezes the state.\n",
    "- The second beam splitter around $Y$ transforms fluctuations in the $XY$ component into fluctuations on $Z$"
   ]
  },
  {
   "cell_type": "code",
   "execution_count": 117,
   "metadata": {},
   "outputs": [],
   "source": [
    "dev = qml.device('strawberryfields.fock', wires=2, cutoff_dim=11)\n",
    "\n",
    "@qml.qnode(dev)\n",
    "def Kerr_Ramsey(kappa, theta2=np.pi/4, var=False):\n",
    "    '''\n",
    "    Sandwich the Lz^2 in between two Beamsplitters. What we change is the time that the non-linearity is applied.\n",
    "    '''\n",
    "    qml.FockState(5, wires=0)\n",
    "    qml.FockState(0, wires=1)\n",
    "    \n",
    "    qml.Beamsplitter(np.pi/4, 0, wires=[0, 1])\n",
    "    qml.Kerr(kappa, wires=0)\n",
    "    qml.Kerr(kappa, wires=1)\n",
    "    qml.CrossKerr(-kappa*2, wires=[0, 1])\n",
    "    qml.Beamsplitter(theta2, np.pi/2, wires=[0, 1])\n",
    "    if var:  \n",
    "        return [qml.var(qml.NumberOperator(0)),qml.var(qml.NumberOperator(1))]\n",
    "    else:\n",
    "        return [qml.expval(qml.NumberOperator(0)),qml.expval(qml.NumberOperator(1))]\n",
    "    \n"
   ]
  },
  {
   "cell_type": "code",
   "execution_count": 118,
   "metadata": {},
   "outputs": [
    {
     "name": "stdout",
     "output_type": "stream",
     "text": [
      " 0: ──|5⟩──╭BS(0.785, 0)──Kerr(1)──╭CrossKerr(-2)──╭BS(0.785, 1.571)──┤ ⟨n⟩ \n",
      " 1: ──|0⟩──╰BS(0.785, 0)──Kerr(1)──╰CrossKerr(-2)──╰BS(0.785, 1.571)──┤ ⟨n⟩ \n",
      "\n"
     ]
    }
   ],
   "source": [
    "Kerr_Ramsey(1)\n",
    "print(Kerr_Ramsey.draw())"
   ]
  },
  {
   "cell_type": "code",
   "execution_count": 119,
   "metadata": {},
   "outputs": [],
   "source": [
    "Nkappa = 51;\n",
    "kappas = np.linspace(0, np.pi/2, Nkappa);\n",
    "meansUp = np.zeros(Nkappa);\n",
    "meansDown = np.zeros(Nkappa);\n",
    "\n",
    "varsUp = np.zeros(Nkappa);\n",
    "varsDown = np.zeros(Nkappa);\n",
    "\n",
    "for ii in np.arange(Nkappa):\n",
    "    meansUp [ii], meansDown[ii] = Kerr_Ramsey(kappas[ii])\n",
    "    varsUp [ii], varsDown[ii] = Kerr_Ramsey(kappas[ii], var = True)\n",
    "    \n",
    "Lz_mean = meansUp - meansDown\n",
    "Lz_var = varsUp + varsDown"
   ]
  },
  {
   "cell_type": "code",
   "execution_count": 120,
   "metadata": {},
   "outputs": [
    {
     "data": {
      "text/plain": [
       "[<matplotlib.lines.Line2D at 0x7fe5470ebfd0>]"
      ]
     },
     "execution_count": 120,
     "metadata": {},
     "output_type": "execute_result"
    },
    {
     "data": {
      "image/png": "[encoded data removed]",
      "text/plain": [
       "<Figure size 432x288 with 1 Axes>"
      ]
     },
     "metadata": {
      "image/png": {
       "height": 250,
       "width": 370
      },
      "needs_background": "light"
     },
     "output_type": "display_data"
    }
   ],
   "source": [
    "f, ax = plt.subplots()\n",
    "ax.plot(kappas, Lz_mean, 'o', label='mean')\n",
    "ax.plot(kappas, Lz_var, 'o', label='var')"
   ]
  },
  {
   "cell_type": "markdown",
   "metadata": {},
   "source": [
    "so we can now actually fix the duration of the non-linearity to the point, where we observed the biggest fluctuations and rotate it through."
   ]
  },
  {
   "cell_type": "code",
   "execution_count": 121,
   "metadata": {},
   "outputs": [],
   "source": [
    "kappa = np.pi/16;\n",
    "\n",
    "Ntheta2 = 51;\n",
    "thetas = np.linspace(0, np.pi/2, Ntheta2);\n",
    "meansUp = np.zeros(Ntheta2);\n",
    "meansDown = np.zeros(Ntheta2);\n",
    "\n",
    "varsUp = np.zeros(Ntheta2);\n",
    "varsDown = np.zeros(Ntheta2);\n",
    "\n",
    "for ii in np.arange(Ntheta2):\n",
    "    meansUp [ii], meansDown[ii] = Kerr_Ramsey(kappa, theta2=thetas[ii])\n",
    "    varsUp [ii], varsDown[ii] = Kerr_Ramsey(kappa, theta2=thetas[ii], var = True)\n",
    "    \n",
    "Lz_mean = meansUp - meansDown\n",
    "Lz_var = varsUp + varsDown"
   ]
  },
  {
   "cell_type": "code",
   "execution_count": 122,
   "metadata": {},
   "outputs": [
    {
     "data": {
      "text/plain": [
       "<matplotlib.legend.Legend at 0x7fe5472d6a10>"
      ]
     },
     "execution_count": 122,
     "metadata": {},
     "output_type": "execute_result"
    },
    {
     "data": {
      "image/png": "[encoded data removed]",
      "text/plain": [
       "<Figure size 432x288 with 1 Axes>"
      ]
     },
     "metadata": {
      "image/png": {
       "height": 250,
       "width": 364
      },
      "needs_background": "light"
     },
     "output_type": "display_data"
    }
   ],
   "source": [
    "f, ax = plt.subplots()\n",
    "ax.plot(thetas, Lz_mean, 'o', label='mean')\n",
    "plt.axhline(y=2.5, linestyle=\"--\", color=\"green\", label=\"shot-noise\")\n",
    "ax.plot(thetas, Lz_var, 'o', label='var')\n",
    "ax.legend()"
   ]
  }
 ],
 "metadata": {
  "kernelspec": {
   "display_name": "Python 3",
   "language": "python",
   "name": "python3"
  },
  "language_info": {
   "codemirror_mode": {
    "name": "ipython",
    "version": 3
   },
   "file_extension": ".py",
   "mimetype": "text/x-python",
   "name": "python",
   "nbconvert_exporter": "python",
   "pygments_lexer": "ipython3",
   "version": "3.7.9"
  }
 },
 "nbformat": 4,
 "nbformat_minor": 4
}
