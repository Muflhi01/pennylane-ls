{
 "cells": [
  {
   "cell_type": "markdown",
   "metadata": {},
   "source": [
    "$$\\newcommand{\\braket}[3]{\\left\\langle{#1}\\middle|{#2}|{#3}\\right\\rangle}$$\n",
    "\n",
    "$$\\newcommand{\\ket}[1]{\\left|{#1}\\right\\rangle}$$\n",
    "\n",
    "## Example Notebook for the Trapped Bosons\n",
    "\n",
    "This Notebook is based on the following [paper](https://journals.aps.org/prl/abstract/10.1103/PhysRevLett.114.080402) from the Jochim group."
   ]
  },
  {
   "cell_type": "code",
   "execution_count": 17,
   "metadata": {},
   "outputs": [],
   "source": [
    "import pennylane as qml\n",
    "from pennylane import numpy as np"
   ]
  },
  {
   "cell_type": "code",
   "execution_count": 18,
   "metadata": {},
   "outputs": [],
   "source": [
    "from pennylane_ls import *\n",
    "from heroku_credentials import username, password"
   ]
  },
  {
   "cell_type": "code",
   "execution_count": 19,
   "metadata": {},
   "outputs": [],
   "source": [
    "FermionDevice = qml.device(\"synqs.fs\",shots=500, username = username, password = password, url=url)"
   ]
  },
  {
   "cell_type": "markdown",
   "metadata": {},
   "source": [
    "In the experiments two Fermions are loaded onto the right side, i.e. into the wire 0 and 1. In a first set of experiments there are no interactions and the two atoms are simply allowed to hop."
   ]
  },
  {
   "cell_type": "code",
   "execution_count": 25,
   "metadata": {},
   "outputs": [],
   "source": [
    "@qml.qnode(FermionDevice)\n",
    "def simple_hopping(theta = 0):\n",
    "    '''\n",
    "    The circuit that simulates the experiments.\n",
    "    \n",
    "    theta ... angle of the hopping\n",
    "    '''\n",
    "    # load atoms\n",
    "    FermionOps.Load(wires=0)\n",
    "    FermionOps.Load(wires=1)\n",
    "    \n",
    "    # let them hop\n",
    "    FermionOps.Hop(theta, wires=[0,1,2,3])\n",
    "\n",
    "    # measure the occupation on the right side\n",
    "    #obs = FermionOps.ParticleNumber(0) @ FermionOps.ParticleNumber(1)\n",
    "    return [qml.expval(FermionOps.ParticleNumber(0)), qml.expval(FermionOps.ParticleNumber(1))]"
   ]
  },
  {
   "cell_type": "code",
   "execution_count": 26,
   "metadata": {},
   "outputs": [
    {
     "name": "stdout",
     "output_type": "stream",
     "text": [
      "{'experiment_0': {'instructions': [('load', [0], []), ('load', [1], []), ('hop', [0, 1, 2, 3], [0.0]), ('measure', [0], []), ('measure', [1], []), ('measure', [2], []), ('measure', [3], []), ('measure', [4], []), ('measure', [5], []), ('measure', [6], []), ('measure', [7], [])], 'num_wires': 1, 'shots': 500}}\n"
     ]
    },
    {
     "data": {
      "text/plain": [
       "tensor([1., 1.], requires_grad=True)"
      ]
     },
     "execution_count": 26,
     "metadata": {},
     "output_type": "execute_result"
    }
   ],
   "source": [
    "simple_hopping(0)"
   ]
  },
  {
   "cell_type": "markdown",
   "metadata": {},
   "source": [
    "# And the tensor observable"
   ]
  },
  {
   "cell_type": "code",
   "execution_count": 32,
   "metadata": {},
   "outputs": [],
   "source": [
    "@qml.qnode(FermionDevice)\n",
    "def simple_hopping(theta = 0):\n",
    "    '''\n",
    "    The circuit that simulates the experiments.\n",
    "    \n",
    "    theta ... angle of the hopping\n",
    "    '''\n",
    "    # load atoms\n",
    "    FermionOps.Load(wires=0)\n",
    "    FermionOps.Load(wires=1)\n",
    "    \n",
    "    # let them hop\n",
    "    FermionOps.Hop(theta, wires=[0,1,2,3])\n",
    "\n",
    "    # measure the occupation on the right side\n",
    "    return qml.sample(FermionOps.ParticleNumber(wires=[0,1]))\n",
    "    #obs = FermionOps.ParticleNumber(0) @ FermionOps.ParticleNumber(1)\n",
    "    #return qml.expval(obs)"
   ]
  },
  {
   "cell_type": "code",
   "execution_count": 33,
   "metadata": {},
   "outputs": [
    {
     "name": "stdout",
     "output_type": "stream",
     "text": [
      "{'experiment_0': {'instructions': [('load', [0], []), ('load', [1], []), ('hop', [0, 1, 2, 3], [1.5707963267948966]), ('measure', [0], []), ('measure', [1], []), ('measure', [2], []), ('measure', [3], []), ('measure', [4], []), ('measure', [5], []), ('measure', [6], []), ('measure', [7], [])], 'num_wires': 1, 'shots': 500}}\n"
     ]
    }
   ],
   "source": [
    "readout = simple_hopping(np.pi)"
   ]
  },
  {
   "cell_type": "code",
   "execution_count": 34,
   "metadata": {},
   "outputs": [
    {
     "data": {
      "text/plain": [
       "(500, 8)"
      ]
     },
     "execution_count": 34,
     "metadata": {},
     "output_type": "execute_result"
    }
   ],
   "source": [
    "readout.shape"
   ]
  },
  {
   "cell_type": "code",
   "execution_count": null,
   "metadata": {},
   "outputs": [],
   "source": []
  }
 ],
 "metadata": {
  "kernelspec": {
   "display_name": "Python 3 (ipykernel)",
   "language": "python",
   "name": "python3"
  },
  "language_info": {
   "codemirror_mode": {
    "name": "ipython",
    "version": 3
   },
   "file_extension": ".py",
   "mimetype": "text/x-python",
   "name": "python",
   "nbconvert_exporter": "python",
   "pygments_lexer": "ipython3",
   "version": "3.9.6"
  }
 },
 "nbformat": 4,
 "nbformat_minor": 4
}
