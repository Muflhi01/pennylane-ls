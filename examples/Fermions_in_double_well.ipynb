{
 "cells": [
  {
   "cell_type": "markdown",
   "metadata": {},
   "source": [
    "# Example Notebook for the tunneling Fermions\n",
    "\n",
    "This Notebook is based on the following [paper](https://journals.aps.org/prl/abstract/10.1103/PhysRevLett.114.080402) from the Jochim group."
   ]
  },
  {
   "cell_type": "code",
   "execution_count": 4,
   "metadata": {},
   "outputs": [],
   "source": [
    "import pennylane as qml\n",
    "from pennylane import numpy as np\n",
    "import matplotlib.pyplot as plt"
   ]
  },
  {
   "cell_type": "code",
   "execution_count": 5,
   "metadata": {},
   "outputs": [],
   "source": [
    "from pennylane_ls import *\n",
    "from heroku_credentials import username, password"
   ]
  },
  {
   "cell_type": "code",
   "execution_count": 6,
   "metadata": {},
   "outputs": [],
   "source": [
    "FermionDevice = qml.device(\"synqs.fs\",shots=500, username = username, password = password)"
   ]
  },
  {
   "cell_type": "markdown",
   "metadata": {},
   "source": [
    "In the experiments two Fermions are loaded onto the right side, i.e. into the wire 0 and 1. "
   ]
  },
  {
   "cell_type": "markdown",
   "metadata": {},
   "source": [
    "## No interaction\n",
    "In a first set of experiments there are no interactions and the two atoms are simply allowed to hop."
   ]
  },
  {
   "cell_type": "code",
   "execution_count": 7,
   "metadata": {},
   "outputs": [],
   "source": [
    "@qml.qnode(FermionDevice)\n",
    "def simple_hopping(theta = 0):\n",
    "    '''\n",
    "    The circuit that simulates the experiments.\n",
    "    \n",
    "    theta ... angle of the hopping\n",
    "    '''\n",
    "    # load atoms\n",
    "    FermionOps.Load(wires=0)\n",
    "    FermionOps.Load(wires=1)\n",
    "    \n",
    "    # let them hop\n",
    "    FermionOps.Hop(theta, wires=[0,1,2,3])\n",
    "\n",
    "    # measure the occupation on the right side\n",
    "    return [qml.expval(FermionOps.ParticleNumber(0)), qml.expval(FermionOps.ParticleNumber(1))]"
   ]
  },
  {
   "cell_type": "code",
   "execution_count": 8,
   "metadata": {},
   "outputs": [
    {
     "data": {
      "text/plain": [
       "tensor([1., 1.], requires_grad=True)"
      ]
     },
     "execution_count": 8,
     "metadata": {},
     "output_type": "execute_result"
    }
   ],
   "source": [
    "simple_hopping(0)"
   ]
  },
  {
   "cell_type": "code",
   "execution_count": 9,
   "metadata": {},
   "outputs": [
    {
     "name": "stdout",
     "output_type": "stream",
     "text": [
      " 0: ──Load──╭Hop(0)──┤ ⟨ParticleNumber⟩ \n",
      " 1: ──Load──├Hop(0)──┤ ⟨ParticleNumber⟩ \n",
      " 2: ────────├Hop(0)──┤                  \n",
      " 3: ────────╰Hop(0)──┤                  \n",
      "\n"
     ]
    }
   ],
   "source": [
    "print(simple_hopping.draw())"
   ]
  },
  {
   "cell_type": "code",
   "execution_count": 10,
   "metadata": {},
   "outputs": [
    {
     "name": "stdout",
     "output_type": "stream",
     "text": [
      "step 0\n",
      "step 10\n"
     ]
    }
   ],
   "source": [
    "Ntimes = 15;\n",
    "times = np.linspace(0, 20, Ntimes)*1e-3;\n",
    "J =2*np.pi*134/2;\n",
    "means = np.zeros((2,Ntimes));\n",
    "for i in range(Ntimes):\n",
    "    if i%10==0:\n",
    "        print(\"step\", i)\n",
    "    # Calculate the resulting states after each rotation\n",
    "    means[:,i] = simple_hopping(J*times[i])"
   ]
  },
  {
   "cell_type": "code",
   "execution_count": 11,
   "metadata": {},
   "outputs": [
    {
     "data": {
      "text/plain": [
       "[<matplotlib.lines.Line2D at 0x1250c7970>]"
      ]
     },
     "execution_count": 11,
     "metadata": {},
     "output_type": "execute_result"
    },
    {
     "data": {
      "image/png": "[encoded data removed]",
      "text/plain": [
       "<Figure size 432x288 with 1 Axes>"
      ]
     },
     "metadata": {
      "needs_background": "light"
     },
     "output_type": "display_data"
    }
   ],
   "source": [
    "f, ax = plt.subplots()\n",
    "ax.plot(times*1e3, means.sum(axis=0))"
   ]
  },
  {
   "cell_type": "markdown",
   "metadata": {},
   "source": [
    "## Hopping with interactions\n",
    "\n",
    "In a next step the atoms are interacting."
   ]
  },
  {
   "cell_type": "code",
   "execution_count": 12,
   "metadata": {},
   "outputs": [],
   "source": [
    "@qml.qnode(FermionDevice)\n",
    "def correlated_hopping(theta = 0, gamma=0, Ntrott = 5):\n",
    "    '''\n",
    "    The circuit that simulates the experiments.\n",
    "    \n",
    "    theta ... angle of the hopping\n",
    "    gamma ... angle of the interaction\n",
    "    '''\n",
    "    # load atoms\n",
    "    FermionOps.Load(wires=0)\n",
    "    FermionOps.Load(wires=1)\n",
    "    \n",
    "    # let them hop\n",
    "    # evolution under the Hamiltonian\n",
    "    for ii in range(Ntrott):\n",
    "        FermionOps.Hop(theta/Ntrott, wires=[0,1,2,3])\n",
    "        FermionOps.Inter(gamma/Ntrott, wires=[0,1,2,3,4,5,6,7])\n",
    "\n",
    "    # measure the occupation on the right side\n",
    "    return [qml.expval(FermionOps.ParticleNumber(0)), qml.expval(FermionOps.ParticleNumber(1))]"
   ]
  },
  {
   "cell_type": "code",
   "execution_count": 13,
   "metadata": {},
   "outputs": [
    {
     "name": "stdout",
     "output_type": "stream",
     "text": [
      " 0: ──Load──╭Hop(0.06)──╭Inter(0.08)──╭Hop(0.06)──╭Inter(0.08)──╭Hop(0.06)──╭Inter(0.08)──╭Hop(0.06)──╭Inter(0.08)──╭Hop(0.06)──╭Inter(0.08)──┤ ⟨ParticleNumber⟩ \n",
      " 1: ──Load──├Hop(0.06)──├Inter(0.08)──├Hop(0.06)──├Inter(0.08)──├Hop(0.06)──├Inter(0.08)──├Hop(0.06)──├Inter(0.08)──├Hop(0.06)──├Inter(0.08)──┤ ⟨ParticleNumber⟩ \n",
      " 2: ────────├Hop(0.06)──├Inter(0.08)──├Hop(0.06)──├Inter(0.08)──├Hop(0.06)──├Inter(0.08)──├Hop(0.06)──├Inter(0.08)──├Hop(0.06)──├Inter(0.08)──┤                  \n",
      " 3: ────────╰Hop(0.06)──├Inter(0.08)──╰Hop(0.06)──├Inter(0.08)──╰Hop(0.06)──├Inter(0.08)──╰Hop(0.06)──├Inter(0.08)──╰Hop(0.06)──├Inter(0.08)──┤                  \n",
      " 4: ────────────────────├Inter(0.08)──────────────├Inter(0.08)──────────────├Inter(0.08)──────────────├Inter(0.08)──────────────├Inter(0.08)──┤                  \n",
      " 5: ────────────────────├Inter(0.08)──────────────├Inter(0.08)──────────────├Inter(0.08)──────────────├Inter(0.08)──────────────├Inter(0.08)──┤                  \n",
      " 6: ────────────────────├Inter(0.08)──────────────├Inter(0.08)──────────────├Inter(0.08)──────────────├Inter(0.08)──────────────├Inter(0.08)──┤                  \n",
      " 7: ────────────────────╰Inter(0.08)──────────────╰Inter(0.08)──────────────╰Inter(0.08)──────────────╰Inter(0.08)──────────────╰Inter(0.08)──┤                  \n",
      "\n"
     ]
    }
   ],
   "source": [
    "correlated_hopping(0.3, 0.4)\n",
    "print(correlated_hopping.draw())"
   ]
  },
  {
   "cell_type": "code",
   "execution_count": 14,
   "metadata": {},
   "outputs": [
    {
     "name": "stdout",
     "output_type": "stream",
     "text": [
      "step 0\n",
      "step 10\n"
     ]
    }
   ],
   "source": [
    "Ntimes = 15;\n",
    "times = np.linspace(0, 20, Ntimes)*1e-3;\n",
    "J =2*np.pi*134/2;\n",
    "U = J;\n",
    "means_int = np.zeros((2,Ntimes));\n",
    "for i in range(Ntimes):\n",
    "    if i%10==0:\n",
    "        print(\"step\", i)\n",
    "    means_int[:,i] = correlated_hopping(J*times[i], U*times[i])"
   ]
  },
  {
   "cell_type": "code",
   "execution_count": 15,
   "metadata": {},
   "outputs": [
    {
     "data": {
      "text/plain": [
       "[<matplotlib.lines.Line2D at 0x125418040>]"
      ]
     },
     "execution_count": 15,
     "metadata": {},
     "output_type": "execute_result"
    },
    {
     "data": {
      "image/png": "[encoded data removed]",
      "text/plain": [
       "<Figure size 432x288 with 1 Axes>"
      ]
     },
     "metadata": {
      "needs_background": "light"
     },
     "output_type": "display_data"
    }
   ],
   "source": [
    "f, ax = plt.subplots()\n",
    "ax.plot(times*1e3, means.sum(axis=0))\n",
    "ax.plot(times*1e3, means_int.sum(axis=0))"
   ]
  },
  {
   "cell_type": "code",
   "execution_count": null,
   "metadata": {},
   "outputs": [],
   "source": []
  }
 ],
 "metadata": {
  "kernelspec": {
   "display_name": "Python 3 (ipykernel)",
   "language": "python",
   "name": "python3"
  },
  "language_info": {
   "codemirror_mode": {
    "name": "ipython",
    "version": 3
   },
   "file_extension": ".py",
   "mimetype": "text/x-python",
   "name": "python",
   "nbconvert_exporter": "python",
   "pygments_lexer": "ipython3",
   "version": "3.9.6"
  }
 },
 "nbformat": 4,
 "nbformat_minor": 4
}
