{
 "cells": [
  {
   "cell_type": "code",
   "execution_count": 1,
   "metadata": {},
   "outputs": [],
   "source": [
    "import pennylane as qml\n",
    "import numpy as np\n",
    "import sys"
   ]
  },
  {
   "cell_type": "code",
   "execution_count": 2,
   "metadata": {},
   "outputs": [],
   "source": [
    "from pennylane_ls import *"
   ]
  },
  {
   "cell_type": "code",
   "execution_count": 3,
   "metadata": {},
   "outputs": [],
   "source": [
    "from heroku_credentials import username, password"
   ]
  },
  {
   "cell_type": "code",
   "execution_count": 4,
   "metadata": {},
   "outputs": [],
   "source": [
    "testDevice = FermionDevice(shots = 5, username = username, password = password)"
   ]
  },
  {
   "cell_type": "code",
   "execution_count": 5,
   "metadata": {},
   "outputs": [
    {
     "data": {
      "text/plain": [
       "{'ChemicalPotential',\n",
       " 'HartreeFock',\n",
       " 'Hop',\n",
       " 'Inter',\n",
       " 'Load',\n",
       " 'OnSiteInteraction',\n",
       " 'Phase',\n",
       " 'Tunneling'}"
      ]
     },
     "execution_count": 5,
     "metadata": {},
     "output_type": "execute_result"
    }
   ],
   "source": [
    "testDevice.operations"
   ]
  },
  {
   "cell_type": "markdown",
   "metadata": {},
   "source": [
    "### For the fermion simulator"
   ]
  },
  {
   "cell_type": "code",
   "execution_count": 6,
   "metadata": {},
   "outputs": [
    {
     "data": {
      "text/plain": [
       "8"
      ]
     },
     "execution_count": 6,
     "metadata": {},
     "output_type": "execute_result"
    }
   ],
   "source": [
    "testDevice.num_wires"
   ]
  },
  {
   "cell_type": "code",
   "execution_count": 7,
   "metadata": {},
   "outputs": [],
   "source": [
    "@qml.qnode(testDevice)\n",
    "def quantum_circuit(alpha=0):\n",
    "    Load(wires=0)\n",
    "    Load(wires=1)\n",
    "    Load(wires=2)\n",
    "    #HartreeFock(3,3,wires=testDevice.wires)\n",
    "    #Load(wires=3)\n",
    "    #Load(wires=4)\n",
    "    #Load(wires=5)\n",
    "    #Load(wires=6)\n",
    "    #Load(wires=7)\n",
    "    Hop(alpha,wires=[0,1,2,3])\n",
    "    Inter(alpha,wires=testDevice.wires)\n",
    "    Phase(alpha, wires=[0, 2])\n",
    "    return qml.sample(ParticleNumber(wires=testDevice.wires))"
   ]
  },
  {
   "cell_type": "code",
   "execution_count": 8,
   "metadata": {},
   "outputs": [
    {
     "name": "stdout",
     "output_type": "stream",
     "text": [
      "{'experiment_0': {'instructions': [('load', [0], []), ('load', [1], []), ('load', [2], []), ('hop', [0, 1, 2, 3], [1.0]), ('int', [0, 1, 2, 3, 4, 5, 6, 7], [2.0]), ('phase', [0, 2], [2.0]), ('measure', [0], []), ('measure', [1], []), ('measure', [2], []), ('measure', [3], []), ('measure', [4], []), ('measure', [5], []), ('measure', [6], []), ('measure', [7], [])], 'num_wires': 1, 'shots': 10}}\n"
     ]
    },
    {
     "data": {
      "text/plain": [
       "array([[1., 0., 1., 1., 0., 0., 0., 0.],\n",
       "       [1., 0., 1., 1., 0., 0., 0., 0.],\n",
       "       [1., 0., 1., 1., 0., 0., 0., 0.],\n",
       "       [1., 1., 1., 0., 0., 0., 0., 0.],\n",
       "       [1., 0., 1., 1., 0., 0., 0., 0.],\n",
       "       [1., 0., 1., 1., 0., 0., 0., 0.],\n",
       "       [1., 0., 1., 1., 0., 0., 0., 0.],\n",
       "       [1., 0., 1., 1., 0., 0., 0., 0.],\n",
       "       [1., 1., 1., 0., 0., 0., 0., 0.],\n",
       "       [1., 1., 1., 0., 0., 0., 0., 0.]])"
      ]
     },
     "execution_count": 8,
     "metadata": {},
     "output_type": "execute_result"
    }
   ],
   "source": [
    "quantum_circuit(2,shots=10)"
   ]
  },
  {
   "cell_type": "code",
   "execution_count": 9,
   "metadata": {},
   "outputs": [
    {
     "name": "stdout",
     "output_type": "stream",
     "text": [
      " 0: ──Load──╭Hop(2)──╭Inter(2)──╭Phase(2)──╭┤ Sample[ParticleNumber] \n",
      " 1: ──Load──├Hop(2)──├Inter(2)──│──────────├┤ Sample[ParticleNumber] \n",
      " 2: ──Load──├Hop(2)──├Inter(2)──╰Phase(2)──├┤ Sample[ParticleNumber] \n",
      " 3: ────────╰Hop(2)──├Inter(2)─────────────├┤ Sample[ParticleNumber] \n",
      " 4: ─────────────────├Inter(2)─────────────├┤ Sample[ParticleNumber] \n",
      " 5: ─────────────────├Inter(2)─────────────├┤ Sample[ParticleNumber] \n",
      " 6: ─────────────────├Inter(2)─────────────├┤ Sample[ParticleNumber] \n",
      " 7: ─────────────────╰Inter(2)─────────────╰┤ Sample[ParticleNumber] \n",
      "\n"
     ]
    }
   ],
   "source": [
    "print(quantum_circuit.draw())"
   ]
  },
  {
   "cell_type": "code",
   "execution_count": 10,
   "metadata": {},
   "outputs": [
    {
     "data": {
      "text/plain": [
       "3.0"
      ]
     },
     "execution_count": 10,
     "metadata": {},
     "output_type": "execute_result"
    }
   ],
   "source": [
    "testDevice.expval(observable='ParticleNumber',wires=testDevice.wires)"
   ]
  },
  {
   "cell_type": "code",
   "execution_count": 11,
   "metadata": {},
   "outputs": [
    {
     "data": {
      "text/plain": [
       "0.42000000000000004"
      ]
     },
     "execution_count": 11,
     "metadata": {},
     "output_type": "execute_result"
    }
   ],
   "source": [
    "testDevice.var(observable='ParticleNumber',wires=testDevice.wires)"
   ]
  },
  {
   "cell_type": "code",
   "execution_count": 12,
   "metadata": {},
   "outputs": [
    {
     "data": {
      "text/plain": [
       "OrderedDict([((1.0, 0.0, 1.0, 1.0, 0.0, 0.0, 0.0, 0.0), 0.7),\n",
       "             ((1.0, 1.0, 1.0, 0.0, 0.0, 0.0, 0.0, 0.0), 0.3)])"
      ]
     },
     "execution_count": 12,
     "metadata": {},
     "output_type": "execute_result"
    }
   ],
   "source": [
    "testDevice.probability(wires=testDevice.wires)"
   ]
  },
  {
   "cell_type": "code",
   "execution_count": null,
   "metadata": {},
   "outputs": [],
   "source": []
  }
 ],
 "metadata": {
  "kernelspec": {
   "display_name": "Python 3",
   "language": "python",
   "name": "python3"
  },
  "language_info": {
   "codemirror_mode": {
    "name": "ipython",
    "version": 3
   },
   "file_extension": ".py",
   "mimetype": "text/x-python",
   "name": "python",
   "nbconvert_exporter": "python",
   "pygments_lexer": "ipython3",
   "version": "3.8.5"
  }
 },
 "nbformat": 4,
 "nbformat_minor": 4
}
