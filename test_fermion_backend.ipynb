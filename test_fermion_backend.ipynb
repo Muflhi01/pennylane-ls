{
 "cells": [
  {
   "cell_type": "code",
   "execution_count": 1,
   "metadata": {},
   "outputs": [],
   "source": [
    "import pennylane as qml\n",
    "import numpy as np\n",
    "import sys"
   ]
  },
  {
   "cell_type": "code",
   "execution_count": 2,
   "metadata": {},
   "outputs": [],
   "source": [
    "from pennylane_ls import *"
   ]
  },
  {
   "cell_type": "code",
   "execution_count": 3,
   "metadata": {},
   "outputs": [],
   "source": [
    "from heroku_credentials import username, password"
   ]
  },
  {
   "cell_type": "code",
   "execution_count": 4,
   "metadata": {},
   "outputs": [],
   "source": [
    "testDevice = FermionDevice(shots = 5, username = username, password = password)"
   ]
  },
  {
   "cell_type": "code",
   "execution_count": 5,
   "metadata": {},
   "outputs": [
    {
     "data": {
      "text/plain": [
       "{'hop', 'inter', 'load', 'phase'}"
      ]
     },
     "execution_count": 5,
     "metadata": {},
     "output_type": "execute_result"
    }
   ],
   "source": [
    "testDevice.operations"
   ]
  },
  {
   "cell_type": "markdown",
   "metadata": {},
   "source": [
    "### For the fermion simulator"
   ]
  },
  {
   "cell_type": "code",
   "execution_count": 6,
   "metadata": {},
   "outputs": [
    {
     "data": {
      "text/plain": [
       "8"
      ]
     },
     "execution_count": 6,
     "metadata": {},
     "output_type": "execute_result"
    }
   ],
   "source": [
    "testDevice.num_wires"
   ]
  },
  {
   "cell_type": "code",
   "execution_count": 7,
   "metadata": {},
   "outputs": [],
   "source": [
    "@qml.qnode(testDevice)\n",
    "def quantum_circuit(alpha=0):\n",
    "    load(wires=0)\n",
    "    load(wires=1)\n",
    "    load(wires=2)\n",
    "    #load(wires=3)\n",
    "    #load(wires=4)\n",
    "    #load(wires=5)\n",
    "    #load(wires=6)\n",
    "    #load(wires=7)\n",
    "    hop(alpha,wires=[0,1,2,3])\n",
    "    inter(alpha,wires=list(range(testDevice.num_wires)))\n",
    "    phase(alpha, wires=[0, 2])\n",
    "    return qml.sample(ParticleNumber(wires=list(range(testDevice.num_wires))))"
   ]
  },
  {
   "cell_type": "code",
   "execution_count": 8,
   "metadata": {},
   "outputs": [
    {
     "data": {
      "text/plain": [
       "array([[1., 0., 1., 1., 0., 0., 0., 0.],\n",
       "       [1., 0., 1., 1., 0., 0., 0., 0.],\n",
       "       [1., 0., 1., 1., 0., 0., 0., 0.],\n",
       "       [1., 0., 1., 1., 0., 0., 0., 0.],\n",
       "       [1., 1., 1., 0., 0., 0., 0., 0.],\n",
       "       [1., 1., 1., 0., 0., 0., 0., 0.],\n",
       "       [1., 0., 1., 1., 0., 0., 0., 0.],\n",
       "       [1., 0., 1., 1., 0., 0., 0., 0.],\n",
       "       [1., 0., 1., 1., 0., 0., 0., 0.],\n",
       "       [1., 0., 1., 1., 0., 0., 0., 0.]])"
      ]
     },
     "execution_count": 8,
     "metadata": {},
     "output_type": "execute_result"
    }
   ],
   "source": [
    "quantum_circuit(2,shots=10)"
   ]
  },
  {
   "cell_type": "code",
   "execution_count": 9,
   "metadata": {},
   "outputs": [
    {
     "name": "stdout",
     "output_type": "stream",
     "text": [
      " 0: ──load──╭hop(2)──╭inter(2)──╭phase(2)──╭┤ Sample[ParticleNumber] \n",
      " 1: ──load──├hop(2)──├inter(2)──│──────────├┤ Sample[ParticleNumber] \n",
      " 2: ──load──├hop(2)──├inter(2)──╰phase(2)──├┤ Sample[ParticleNumber] \n",
      " 3: ────────╰hop(2)──├inter(2)─────────────├┤ Sample[ParticleNumber] \n",
      " 4: ─────────────────├inter(2)─────────────├┤ Sample[ParticleNumber] \n",
      " 5: ─────────────────├inter(2)─────────────├┤ Sample[ParticleNumber] \n",
      " 6: ─────────────────├inter(2)─────────────├┤ Sample[ParticleNumber] \n",
      " 7: ─────────────────╰inter(2)─────────────╰┤ Sample[ParticleNumber] \n",
      "\n"
     ]
    }
   ],
   "source": [
    "print(quantum_circuit.draw())"
   ]
  },
  {
   "cell_type": "code",
   "execution_count": null,
   "metadata": {},
   "outputs": [],
   "source": []
  }
 ],
 "metadata": {
  "kernelspec": {
   "display_name": "Python 3",
   "language": "python",
   "name": "python3"
  },
  "language_info": {
   "codemirror_mode": {
    "name": "ipython",
    "version": 3
   },
   "file_extension": ".py",
   "mimetype": "text/x-python",
   "name": "python",
   "nbconvert_exporter": "python",
   "pygments_lexer": "ipython3",
   "version": "3.8.5"
  }
 },
 "nbformat": 4,
 "nbformat_minor": 4
}
